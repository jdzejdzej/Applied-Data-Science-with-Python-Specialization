{
 "cells": [
  {
   "cell_type": "markdown",
   "metadata": {},
   "source": [
    "---\n",
    "\n",
    "_You are currently looking at **version 1.0** of this notebook. To download notebooks and datafiles, as well as get help on Jupyter notebooks in the Coursera platform, visit the [Jupyter Notebook FAQ](https://www.coursera.org/learn/python-machine-learning/resources/bANLa) course resource._\n",
    "\n",
    "---"
   ]
  },
  {
   "cell_type": "markdown",
   "metadata": {},
   "source": [
    "## Assignment 4 - Understanding and Predicting Property Maintenance Fines\n",
    "\n",
    "This assignment is based on a data challenge from the Michigan Data Science Team ([MDST](http://midas.umich.edu/mdst/)). \n",
    "\n",
    "The Michigan Data Science Team ([MDST](http://midas.umich.edu/mdst/)) and the Michigan Student Symposium for Interdisciplinary Statistical Sciences ([MSSISS](https://sites.lsa.umich.edu/mssiss/)) have partnered with the City of Detroit to help solve one of the most pressing problems facing Detroit - blight. [Blight violations](http://www.detroitmi.gov/How-Do-I/Report/Blight-Complaint-FAQs) are issued by the city to individuals who allow their properties to remain in a deteriorated condition. Every year, the city of Detroit issues millions of dollars in fines to residents and every year, many of these fines remain unpaid. Enforcing unpaid blight fines is a costly and tedious process, so the city wants to know: how can we increase blight ticket compliance?\n",
    "\n",
    "The first step in answering this question is understanding when and why a resident might fail to comply with a blight ticket. This is where predictive modeling comes in. For this assignment, your task is to predict whether a given blight ticket will be paid on time.\n",
    "\n",
    "All data for this assignment has been provided to us through the [Detroit Open Data Portal](https://data.detroitmi.gov/). **Only the data already included in your Coursera directory can be used for training the model for this assignment.** Nonetheless, we encourage you to look into data from other Detroit datasets to help inform feature creation and model selection. We recommend taking a look at the following related datasets:\n",
    "\n",
    "* [Building Permits](https://data.detroitmi.gov/Property-Parcels/Building-Permits/xw2a-a7tf)\n",
    "* [Trades Permits](https://data.detroitmi.gov/Property-Parcels/Trades-Permits/635b-dsgv)\n",
    "* [Improve Detroit: Submitted Issues](https://data.detroitmi.gov/Government/Improve-Detroit-Submitted-Issues/fwz3-w3yn)\n",
    "* [DPD: Citizen Complaints](https://data.detroitmi.gov/Public-Safety/DPD-Citizen-Complaints-2016/kahe-efs3)\n",
    "* [Parcel Map](https://data.detroitmi.gov/Property-Parcels/Parcel-Map/fxkw-udwf)\n",
    "\n",
    "___\n",
    "\n",
    "We provide you with two data files for use in training and validating your models: train.csv and test.csv. Each row in these two files corresponds to a single blight ticket, and includes information about when, why, and to whom each ticket was issued. The target variable is compliance, which is True if the ticket was paid early, on time, or within one month of the hearing data, False if the ticket was paid after the hearing date or not at all, and Null if the violator was found not responsible. Compliance, as well as a handful of other variables that will not be available at test-time, are only included in train.csv.\n",
    "\n",
    "Note: All tickets where the violators were found not responsible are not considered during evaluation. They are included in the training set as an additional source of data for visualization, and to enable unsupervised and semi-supervised approaches. However, they are not included in the test set.\n",
    "\n",
    "<br>\n",
    "\n",
    "**File descriptions** (Use only this data for training your model!)\n",
    "\n",
    "    train.csv - the training set (all tickets issued 2004-2011)\n",
    "    test.csv - the test set (all tickets issued 2012-2016)\n",
    "    addresses.csv & latlons.csv - mapping from ticket id to addresses, and from addresses to lat/lon coordinates. \n",
    "     Note: misspelled addresses may be incorrectly geolocated.\n",
    "\n",
    "<br>\n",
    "\n",
    "**Data fields**\n",
    "\n",
    "train.csv & test.csv\n",
    "\n",
    "    ticket_id - unique identifier for tickets\n",
    "    agency_name - Agency that issued the ticket\n",
    "    inspector_name - Name of inspector that issued the ticket\n",
    "    violator_name - Name of the person/organization that the ticket was issued to\n",
    "    violation_street_number, violation_street_name, violation_zip_code - Address where the violation occurred\n",
    "    mailing_address_str_number, mailing_address_str_name, city, state, zip_code, non_us_str_code, country - Mailing address of the violator\n",
    "    ticket_issued_date - Date and time the ticket was issued\n",
    "    hearing_date - Date and time the violator's hearing was scheduled\n",
    "    violation_code, violation_description - Type of violation\n",
    "    disposition - Judgment and judgement type\n",
    "    fine_amount - Violation fine amount, excluding fees\n",
    "    admin_fee - $20 fee assigned to responsible judgments\n",
    "state_fee - $10 fee assigned to responsible judgments\n",
    "    late_fee - 10% fee assigned to responsible judgments\n",
    "    discount_amount - discount applied, if any\n",
    "    clean_up_cost - DPW clean-up or graffiti removal cost\n",
    "    judgment_amount - Sum of all fines and fees\n",
    "    grafitti_status - Flag for graffiti violations\n",
    "    \n",
    "train.csv only\n",
    "\n",
    "    payment_amount - Amount paid, if any\n",
    "    payment_date - Date payment was made, if it was received\n",
    "    payment_status - Current payment status as of Feb 1 2017\n",
    "    balance_due - Fines and fees still owed\n",
    "    collection_status - Flag for payments in collections\n",
    "    compliance [target variable for prediction] \n",
    "     Null = Not responsible\n",
    "     0 = Responsible, non-compliant\n",
    "     1 = Responsible, compliant\n",
    "    compliance_detail - More information on why each ticket was marked compliant or non-compliant\n",
    "\n",
    "\n",
    "___\n",
    "\n",
    "## Evaluation\n",
    "\n",
    "Your predictions will be given as the probability that the corresponding blight ticket will be paid on time.\n",
    "\n",
    "The evaluation metric for this assignment is the Area Under the ROC Curve (AUC). \n",
    "\n",
    "Your grade will be based on the AUC score computed for your classifier. A model which with an AUROC of 0.7 passes this assignment, over 0.75 will recieve full points.\n",
    "___\n",
    "\n",
    "For this assignment, create a function that trains a model to predict blight ticket compliance in Detroit using `train.csv`. Using this model, return a series of length 61001 with the data being the probability that each corresponding ticket from `test.csv` will be paid, and the index being the ticket_id.\n",
    "\n",
    "Example:\n",
    "\n",
    "    ticket_id\n",
    "       284932    0.531842\n",
    "       285362    0.401958\n",
    "       285361    0.105928\n",
    "       285338    0.018572\n",
    "                 ...\n",
    "       376499    0.208567\n",
    "       376500    0.818759\n",
    "       369851    0.018528\n",
    "       Name: compliance, dtype: float32"
   ]
  },
  {
   "cell_type": "code",
   "execution_count": 1,
   "metadata": {},
   "outputs": [
    {
     "name": "stderr",
     "output_type": "stream",
     "text": [
      "c:\\python27\\lib\\site-packages\\IPython\\core\\interactiveshell.py:2822: DtypeWarning: Columns (11,12,31) have mixed types. Specify dtype option on import or set low_memory=False.\n",
      "  if self.run_code(code, result):\n"
     ]
    }
   ],
   "source": [
    "import pandas as pd\n",
    "import numpy as np\n",
    "def load_data():\n",
    "    train = pd.read_csv('train.csv', encoding = 'ISO-8859-1')\n",
    "    test = pd.read_csv('test.csv')\n",
    "    addresses = pd.read_csv('addresses.csv') \n",
    "    latlons = pd.read_csv('latlons.csv')\n",
    "    return train[~train.compliance.isnull()], test, addresses, latlons\n",
    "\n",
    "train, test, addresses, latlons = load_data()"
   ]
  },
  {
   "cell_type": "code",
   "execution_count": 2,
   "metadata": {},
   "outputs": [
    {
     "data": {
      "text/plain": [
       "(159880, 34)"
      ]
     },
     "execution_count": 2,
     "metadata": {},
     "output_type": "execute_result"
    }
   ],
   "source": [
    "train.shape"
   ]
  },
  {
   "cell_type": "code",
   "execution_count": 3,
   "metadata": {},
   "outputs": [
    {
     "data": {
      "text/plain": [
       "(61001, 27)"
      ]
     },
     "execution_count": 3,
     "metadata": {},
     "output_type": "execute_result"
    }
   ],
   "source": [
    "test.shape"
   ]
  },
  {
   "cell_type": "code",
   "execution_count": 4,
   "metadata": {},
   "outputs": [
    {
     "name": "stdout",
     "output_type": "stream",
     "text": [
      "train shape: (159880, 34)\n",
      "Index([u'ticket_id', u'agency_name', u'inspector_name', u'violator_name', u'violation_street_number', u'violation_street_name', u'violation_zip_code', u'mailing_address_str_number', u'mailing_address_str_name', u'city', u'state', u'zip_code', u'non_us_str_code', u'country', u'ticket_issued_date', u'hearing_date', u'violation_code', u'violation_description', u'disposition', u'fine_amount', u'admin_fee', u'state_fee', u'late_fee', u'discount_amount', u'clean_up_cost', u'judgment_amount', u'payment_amount', u'balance_due', u'payment_date', u'payment_status', u'collection_status', u'grafitti_status', u'compliance_detail', u'compliance'], dtype='object')\n",
      "()\n",
      "test shape: (61001, 27)\n",
      "Index([u'ticket_id', u'agency_name', u'inspector_name', u'violator_name', u'violation_street_number', u'violation_street_name', u'violation_zip_code', u'mailing_address_str_number', u'mailing_address_str_name', u'city', u'state', u'zip_code', u'non_us_str_code', u'country', u'ticket_issued_date', u'hearing_date', u'violation_code', u'violation_description', u'disposition', u'fine_amount', u'admin_fee', u'state_fee', u'late_fee', u'discount_amount', u'clean_up_cost', u'judgment_amount', u'grafitti_status'], dtype='object')\n",
      "()\n",
      "addresses shape: (311307, 2)\n",
      "Index([u'ticket_id', u'address'], dtype='object')\n",
      "()\n",
      "latlons shape: (121769, 3)\n",
      "Index([u'address', u'lat', u'lon'], dtype='object')\n",
      "()\n"
     ]
    }
   ],
   "source": [
    "with pd.option_context('display.width', 1000):\n",
    "    print ('train shape: {}'.format(train.shape))\n",
    "    print (train.columns)\n",
    "    print ()\n",
    "    print ('test shape: {}'.format(test.shape))\n",
    "    print (test.columns)\n",
    "    print ()\n",
    "    print ('addresses shape: {}'.format(addresses.shape))\n",
    "    print (addresses.columns)\n",
    "    print ()\n",
    "    print ('latlons shape: {}'.format(latlons.shape))\n",
    "    print (latlons.columns)\n",
    "    print ()"
   ]
  },
  {
   "cell_type": "code",
   "execution_count": 5,
   "metadata": {},
   "outputs": [
    {
     "name": "stderr",
     "output_type": "stream",
     "text": [
      "c:\\python27\\lib\\site-packages\\IPython\\core\\interactiveshell.py:2882: DtypeWarning: Columns (11,12,31) have mixed types. Specify dtype option on import or set low_memory=False.\n",
      "  exec(code_obj, self.user_global_ns, self.user_ns)\n"
     ]
    }
   ],
   "source": [
    "def join_data():\n",
    "    train, test, addresses, latlons = load_data()\n",
    "    add_lat_lon = addresses.merge(latlons, on='address', how='left')\n",
    "    \n",
    "    test = test.merge(add_lat_lon, on='ticket_id', how='left')\n",
    "    train = train.merge(add_lat_lon, on='ticket_id', how='left')\n",
    "    \n",
    "    for c in ['lat', 'lon', 'state']:\n",
    "        test[c].fillna(method='pad', inplace=True)\n",
    "        train[c].fillna(method='pad', inplace=True)\n",
    "    return test, train\n",
    "test, train = join_data()"
   ]
  },
  {
   "cell_type": "code",
   "execution_count": 6,
   "metadata": {},
   "outputs": [
    {
     "name": "stdout",
     "output_type": "stream",
     "text": [
      "ticket_id                               61001     int64               \n",
      "non_us_str_code                         1         float64             \n",
      "admin_fee                               1         float64             \n",
      "state_fee                               1         float64             \n",
      "discount_amount                         14        float64             \n",
      "late_fee                                44        float64             \n",
      "fine_amount                             53        float64             \n",
      "clean_up_cost                           298       float64             \n",
      "judgment_amount                         503       float64             \n",
      "violation_street_number                 13999     float64             \n",
      "lat                                     31264     float64             \n",
      "lon                                     32625     float64             \n",
      "country                                 1         object              \n",
      "grafitti_status                         2         object              \n",
      "agency_name                             3         object              \n",
      "disposition                             8         object              \n",
      "state                                   58        object              \n",
      "violation_zip_code                      59        object              \n",
      "inspector_name                          116       object              \n",
      "violation_code                          151       object              \n",
      "violation_description                   163       object              \n",
      "violation_street_name                   1477      object              \n",
      "zip_code                                2901      object              \n",
      "city                                    3267      object              \n",
      "hearing_date                            3313      object              \n",
      "mailing_address_str_number              9704      object              \n",
      "mailing_address_str_name                16852     object              \n",
      "ticket_issued_date                      33064     object              \n",
      "address                                 37276     object              \n",
      "violator_name                           38516     object              \n"
     ]
    }
   ],
   "source": [
    "# count unique values \n",
    "lst = [(c, len(test[c].unique()), test[c].dtype) for c in test.columns]\n",
    "for k, v, t in sorted(lst, key=lambda x: (x[2], x[1])):\n",
    "    print ('{:<40}{:<10}{:<20}'.format(k, v, str(t)))"
   ]
  },
  {
   "cell_type": "code",
   "execution_count": 7,
   "metadata": {},
   "outputs": [],
   "source": [
    "def to_remove():\n",
    "    to_remove_all = ['non_us_str_code', 'admin_fee', 'state_fee', 'country', 'inspector_name', 'violation_code',\n",
    "                     'violation_description', 'violation_street_name', 'violation_zip_code', 'violation_street_number',\n",
    "                     'zip_code', 'city', 'mailing_address_str_number', 'mailing_address_str_name', 'violator_name',\n",
    "                     'grafitti_status', 'hearing_date', 'ticket_issued_date', 'address']\n",
    "    to_remove_train = ['payment_amount', 'payment_date', 'payment_status', 'balance_due', 'collection_status',\n",
    "                       'compliance_detail']\n",
    "    return to_remove_all, to_remove_train\n",
    "\n",
    "def to_replace():\n",
    "    return ['agency_name', 'disposition', 'state']"
   ]
  },
  {
   "cell_type": "code",
   "execution_count": 8,
   "metadata": {},
   "outputs": [
    {
     "name": "stderr",
     "output_type": "stream",
     "text": [
      "c:\\python27\\lib\\site-packages\\ipykernel_launcher.py:21: DtypeWarning: Columns (11,12,31) have mixed types. Specify dtype option on import or set low_memory=False.\n"
     ]
    }
   ],
   "source": [
    "def filter_and_preprocess_data():\n",
    "    test, train = join_data()\n",
    "    to_remove_, to_remove_train = to_remove()\n",
    "    to_replace_ = to_replace()\n",
    "    \n",
    "    train['delay'] = (pd.to_datetime(train.hearing_date) - pd.to_datetime(train.ticket_issued_date)).dt.days\n",
    "    test['delay'] = (pd.to_datetime(test.hearing_date) - pd.to_datetime(test.ticket_issued_date)).dt.days\n",
    "    test['delay'].fillna(value=int(train.delay.mean()), inplace=True)\n",
    "    train['delay'].fillna(value=int(train.delay.mean()), inplace=True)\n",
    "    \n",
    "    train.drop(to_remove_+to_remove_train, axis=1, inplace=True)\n",
    "    test.drop(to_remove_, axis=1, inplace=True)\n",
    "    \n",
    "    train = pd.get_dummies(train, columns=to_replace_, dummy_na=True)\n",
    "    test = pd.get_dummies(test, columns=to_replace_, dummy_na=True)\n",
    "    \n",
    "    train.drop(set(train.columns) - set(test.columns) - set(['compliance']), axis=1, inplace=True)\n",
    "    test.drop(set(test.columns) - set(train.columns) , axis=1, inplace=True)\n",
    "    \n",
    "    return train.set_index('ticket_id'), test.set_index('ticket_id')\n",
    "train, test = filter_and_preprocess_data()"
   ]
  },
  {
   "cell_type": "code",
   "execution_count": 9,
   "metadata": {},
   "outputs": [
    {
     "data": {
      "text/plain": [
       "(61001, 76)"
      ]
     },
     "execution_count": 9,
     "metadata": {},
     "output_type": "execute_result"
    }
   ],
   "source": [
    "test.shape"
   ]
  },
  {
   "cell_type": "code",
   "execution_count": 10,
   "metadata": {},
   "outputs": [
    {
     "data": {
      "text/plain": [
       "(159880, 77)"
      ]
     },
     "execution_count": 10,
     "metadata": {},
     "output_type": "execute_result"
    }
   ],
   "source": [
    "train.shape"
   ]
  },
  {
   "cell_type": "code",
   "execution_count": 11,
   "metadata": {},
   "outputs": [],
   "source": [
    "from sklearn.preprocessing import MinMaxScaler\n",
    "def minmax():\n",
    "    train, test = filter_and_preprocess_data()\n",
    "    X_train, y_train = train[train.columns[train.columns != 'compliance']], train['compliance']\n",
    "    scaler = MinMaxScaler()\n",
    "    X_train_scaled = scaler.fit_transform(X_train)\n",
    "    X_test_scaled = scaler.transform(test)\n",
    "    return X_train_scaled, y_train, X_test_scaled\n"
   ]
  },
  {
   "cell_type": "code",
   "execution_count": 12,
   "metadata": {},
   "outputs": [],
   "source": [
    "from sklearn.model_selection import train_test_split\n",
    "from sklearn.metrics import roc_curve, auc"
   ]
  },
  {
   "cell_type": "code",
   "execution_count": 13,
   "metadata": {},
   "outputs": [],
   "source": [
    "def test_classifier(clf, data):\n",
    "    X_train, y_train = data\n",
    "    X_train, X_test, y_train, y_test = train_test_split(X_train, y_train, random_state=0)\n",
    "    \n",
    "    clf.fit(X_train, y_train)\n",
    "    \n",
    "    fpr, tpr, thresholds = roc_curve(y_test, clf.predict_proba(X_test)[:,1])\n",
    "    print('auc {}'.format(auc(fpr, tpr)))\n",
    "    print('score {}'.format(clf.score(X_test, y_test)))"
   ]
  },
  {
   "cell_type": "code",
   "execution_count": 14,
   "metadata": {},
   "outputs": [
    {
     "name": "stderr",
     "output_type": "stream",
     "text": [
      "c:\\python27\\lib\\site-packages\\ipykernel_launcher.py:3: DtypeWarning: Columns (11,12,31) have mixed types. Specify dtype option on import or set low_memory=False.\n",
      "  This is separate from the ipykernel package so we can avoid doing imports until\n"
     ]
    }
   ],
   "source": [
    "data = train[train.columns[train.columns != 'compliance']], train['compliance']\n",
    "data_scaled = minmax()[:2]"
   ]
  },
  {
   "cell_type": "code",
   "execution_count": 15,
   "metadata": {},
   "outputs": [
    {
     "name": "stdout",
     "output_type": "stream",
     "text": [
      "normal data\n",
      "auc 0.790885329063\n",
      "score 0.934676007005\n",
      "scaled data\n",
      "auc 0.78259009436\n",
      "score 0.932349261946\n"
     ]
    }
   ],
   "source": [
    "from sklearn.linear_model import LogisticRegression\n",
    "\n",
    "def linear_model():\n",
    "    return LogisticRegression(penalty='l2', C=1, random_state=0, solver='liblinear') #lbfgs\n",
    "print ('normal data')\n",
    "test_classifier(linear_model(), data)\n",
    "print ('scaled data')\n",
    "test_classifier(linear_model(), data_scaled)"
   ]
  },
  {
   "cell_type": "code",
   "execution_count": 16,
   "metadata": {},
   "outputs": [
    {
     "name": "stdout",
     "output_type": "stream",
     "text": [
      "normal data\n",
      "auc 0.802191304944\n",
      "score 0.942932199149\n",
      "scaled data\n",
      "auc 0.802194918685\n",
      "score 0.942932199149\n"
     ]
    }
   ],
   "source": [
    "from sklearn.tree import DecisionTreeClassifier\n",
    "\n",
    "def tree_model():\n",
    "    return DecisionTreeClassifier(max_depth=8, random_state=0)\n",
    "print ('normal data')\n",
    "test_classifier(tree_model(), data)\n",
    "print ('scaled data')\n",
    "test_classifier(tree_model(), data_scaled)"
   ]
  },
  {
   "cell_type": "code",
   "execution_count": 17,
   "metadata": {},
   "outputs": [
    {
     "name": "stdout",
     "output_type": "stream",
     "text": [
      "normal data\n",
      "auc 0.832978449901\n",
      "score 0.945183887916\n",
      "scaled data\n",
      "auc 0.83324452388\n",
      "score 0.9453340005\n"
     ]
    }
   ],
   "source": [
    "from sklearn.ensemble import RandomForestClassifier\n",
    "\n",
    "def ensemble_model():\n",
    "    return RandomForestClassifier(n_estimators=100, max_depth=30, random_state=0)\n",
    "print ('normal data')\n",
    "test_classifier(ensemble_model(), data)\n",
    "print ('scaled data')\n",
    "test_classifier(ensemble_model(), data_scaled)"
   ]
  },
  {
   "cell_type": "code",
   "execution_count": 18,
   "metadata": {},
   "outputs": [
    {
     "name": "stdout",
     "output_type": "stream",
     "text": [
      "normal data\n",
      "auc 0.797288217385\n",
      "score 0.941856392294\n",
      "scaled data\n",
      "auc 0.797288217385\n",
      "score 0.941856392294\n"
     ]
    }
   ],
   "source": [
    "from sklearn.ensemble import AdaBoostClassifier\n",
    "\n",
    "def ensemble_model_2():\n",
    "    return AdaBoostClassifier(n_estimators=100, learning_rate=0.1, random_state=0)\n",
    "print ('normal data')\n",
    "test_classifier(ensemble_model_2(), data)\n",
    "print ('scaled data')\n",
    "test_classifier(ensemble_model_2(), data_scaled)"
   ]
  },
  {
   "cell_type": "code",
   "execution_count": 19,
   "metadata": {},
   "outputs": [
    {
     "name": "stdout",
     "output_type": "stream",
     "text": [
      "normal data\n",
      "auc 0.767778042879\n",
      "score 0.933124843633\n",
      "scaled data\n",
      "auc 0.794874097982\n",
      "score 0.939204403302\n"
     ]
    }
   ],
   "source": [
    "from sklearn.neural_network import MLPClassifier\n",
    "\n",
    "def mlpc_model():\n",
    "    return MLPClassifier(hidden_layer_sizes=[100, 10], alpha=5, solver='lbfgs', random_state=0)\n",
    "print ('normal data')\n",
    "test_classifier(mlpc_model(), data)\n",
    "print ('scaled data')\n",
    "test_classifier(mlpc_model(), data_scaled)"
   ]
  },
  {
   "cell_type": "code",
   "execution_count": 20,
   "metadata": {},
   "outputs": [
    {
     "name": "stderr",
     "output_type": "stream",
     "text": [
      "c:\\python27\\lib\\site-packages\\ipykernel_launcher.py:8: DtypeWarning: Columns (11,12,31) have mixed types. Specify dtype option on import or set low_memory=False.\n",
      "  \n"
     ]
    },
    {
     "data": {
      "text/plain": [
       "ticket_id\n",
       "284932    0.028482\n",
       "285362    0.067720\n",
       "285361    0.060761\n",
       "285338    0.089065\n",
       "285346    0.077346\n",
       "285345    0.038454\n",
       "285347    0.048563\n",
       "285342    0.926475\n",
       "285530    0.021784\n",
       "284989    0.061346\n",
       "285344    0.038295\n",
       "285343    0.002093\n",
       "285340    0.002093\n",
       "285341    0.107073\n",
       "285349    0.081086\n",
       "285348    0.016943\n",
       "284991    0.019684\n",
       "285532    0.015108\n",
       "285406    0.017968\n",
       "285001    0.002768\n",
       "285006    0.000194\n",
       "285405    0.004158\n",
       "285337    0.004751\n",
       "285496    0.064849\n",
       "285497    0.089930\n",
       "285378    0.002758\n",
       "285589    0.019920\n",
       "285585    0.035300\n",
       "285501    0.095492\n",
       "285581    0.005842\n",
       "            ...   \n",
       "376367    0.020652\n",
       "376366    0.025522\n",
       "376362    0.075935\n",
       "376363    0.218435\n",
       "376365    0.020652\n",
       "376364    0.025522\n",
       "376228    0.161288\n",
       "376265    0.041875\n",
       "376286    0.029437\n",
       "376320    0.030997\n",
       "376314    0.024506\n",
       "376327    0.358495\n",
       "376385    0.278201\n",
       "376435    0.573333\n",
       "376370    0.933490\n",
       "376434    0.037543\n",
       "376459    0.030049\n",
       "376478    0.000076\n",
       "376473    0.036153\n",
       "376484    0.002414\n",
       "376482    0.069685\n",
       "376480    0.069685\n",
       "376479    0.069685\n",
       "376481    0.069685\n",
       "376483    0.200506\n",
       "376496    0.000503\n",
       "376497    0.000503\n",
       "376499    0.031697\n",
       "376500    0.031697\n",
       "369851    0.709231\n",
       "Name: compliance, Length: 61001, dtype: float32"
      ]
     },
     "execution_count": 20,
     "metadata": {},
     "output_type": "execute_result"
    }
   ],
   "source": [
    "import pandas as pd\n",
    "import numpy as np\n",
    "\n",
    "def blight_model():\n",
    "    \n",
    "    clf = ensemble_model()\n",
    "    \n",
    "    train, X_test = filter_and_preprocess_data()\n",
    "    X_train, y_train = train[train.columns[train.columns != 'compliance']], train['compliance']\n",
    "    \n",
    "    clf.fit(X_train, y_train)\n",
    "    \n",
    "    return pd.Series(clf.predict_proba(X_test)[:, 1], index=X_test.index, name='compliance', dtype=np.float32)\n",
    "blight_model()"
   ]
  }
 ],
 "metadata": {
  "coursera": {
   "course_slug": "python-machine-learning",
   "graded_item_id": "nNS8l",
   "launcher_item_id": "yWWk7",
   "part_id": "w8BSS"
  },
  "kernelspec": {
   "display_name": "Python 2",
   "language": "python",
   "name": "python2"
  },
  "language_info": {
   "codemirror_mode": {
    "name": "ipython",
    "version": 2
   },
   "file_extension": ".py",
   "mimetype": "text/x-python",
   "name": "python",
   "nbconvert_exporter": "python",
   "pygments_lexer": "ipython2",
   "version": "2.7.14"
  }
 },
 "nbformat": 4,
 "nbformat_minor": 2
}
